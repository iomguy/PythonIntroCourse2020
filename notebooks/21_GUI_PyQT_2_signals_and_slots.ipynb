{
 "cells": [
  {
   "cell_type": "code",
   "execution_count": 1,
   "id": "940e2075",
   "metadata": {},
   "outputs": [],
   "source": [
    "import sys\n",
    "from PyQt5.QtCore import Qt\n",
    "from PyQt5.QtWidgets import QWidget, QLCDNumber, QSlider, QVBoxLayout, QApplication"
   ]
  },
  {
   "cell_type": "markdown",
   "id": "6790050d",
   "metadata": {},
   "source": [
    "# Сигналы и слоты\n",
    "\n",
    "В примере ниже замените пропуски ________ , чтобы связать сигнал слайдера и слот числового дисплея.\n",
    "\n",
    "Нужный вам сигнал посылается слайдером, когда значение слайдера меняется, и передаёт это число ([почитайте тут](https://doc.qt.io/qt-5/qabstractslider.html) - среди сигналов будет что-то про value и change) \n",
    "\n",
    "Нужынй вам слот числового дисплея, получает число и выводит его на экран ([почитайте тут](https://doc.qt.io/qt-5/qlcdnumber.html) - среди публичных слотов будет нужный вам метод - догадайтесь, какой)"
   ]
  },
  {
   "cell_type": "code",
   "execution_count": 2,
   "id": "8545fce4",
   "metadata": {},
   "outputs": [],
   "source": [
    "class Example(QWidget):\n",
    "\n",
    "    def __init__(self):\n",
    "        super().__init__()\n",
    "        self.initUI()\n",
    "\n",
    "\n",
    "    def initUI(self):\n",
    "        # создаём слайдер и числовой дисплей, который может выводить числа\n",
    "        lcd = QLCDNumber(self)\n",
    "        sld = QSlider(Qt.Horizontal, self)\n",
    "\n",
    "        # создадим расположенный по вертикали массив элементов интерфейса и прикрепим к нему экран и слайдер\n",
    "        vbox = QVBoxLayout()\n",
    "        vbox.addWidget(lcd)\n",
    "        vbox.addWidget(sld)\n",
    "        \n",
    "        # установим расположение этих элементов для нашего виджета\n",
    "        self.setLayout(vbox)\n",
    "\n",
    "        # свяжем сигнал, посылаемый слайдером, и слот, принимаемый дисплеем\n",
    "        sld.________.connect(lcd.________)\n",
    "\n",
    "        self.setGeometry(300, 300, 250, 150)\n",
    "        self.setWindowTitle('Signal & slot')\n",
    "        self.show()"
   ]
  },
  {
   "cell_type": "code",
   "execution_count": 3,
   "id": "4eca5389",
   "metadata": {},
   "outputs": [],
   "source": [
    "def application():\n",
    "    app = QApplication(sys.argv)\n",
    "    ex = Example()\n",
    "    app.exec()"
   ]
  },
  {
   "cell_type": "code",
   "execution_count": 4,
   "id": "fb014f94",
   "metadata": {},
   "outputs": [],
   "source": [
    "if __name__ == \"__main__\":\n",
    "    application()"
   ]
  }
 ],
 "metadata": {
  "kernelspec": {
   "display_name": "Python 3 (ipykernel)",
   "language": "python",
   "name": "python3"
  },
  "language_info": {
   "codemirror_mode": {
    "name": "ipython",
    "version": 3
   },
   "file_extension": ".py",
   "mimetype": "text/x-python",
   "name": "python",
   "nbconvert_exporter": "python",
   "pygments_lexer": "ipython3",
   "version": "3.9.7"
  }
 },
 "nbformat": 4,
 "nbformat_minor": 5
}
