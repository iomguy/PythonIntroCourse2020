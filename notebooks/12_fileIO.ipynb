{
 "cells": [
  {
   "cell_type": "markdown",
   "metadata": {},
   "source": [
    "## Основной метод:\n",
    "fileobj = open(filename, mode, coding)\n",
    "\n",
    "filename - путь к файлу\n",
    "\n",
    "coding - кодировка (ASCII, UTF-8, CP1251 и др.)\n",
    "\n",
    "mode — это строка, указывающая на тип файла и действия, которые вы хотите над ним произвести.\n",
    "Первая буква строки mode указывает на операцию:\n",
    "* r означает чтение;\n",
    "* w означает запись. Если файла не существует, он будет создан. Если файл существует, он будет перезаписан;\n",
    "* x означает запись, но только если файла еще не существует;\n",
    "* a означает добавление данных в конец файла, если он существует.\n",
    "\n",
    "Вторая буква строки mode указывает на тип файла:\n",
    "* t (или ничего) означает, что файл текстовый;\n",
    "* b означает, что файл бинарный\n",
    "\n",
    "|          Режим          |  r   |  r+  |  w   |  w+  |  a   |  a+  |\n",
    "| :--------------------: | :--: | :--: | :--: | :--: | :--: | :--: |\n",
    "|          Чтение          |  +   |  +   |      |  +   |      |  +   |\n",
    "|         Запись          |      |  +   |  +   |  +   |  +   |  +   |\n",
    "|         Создание         |      |      |  +   |  +   |  +   |  +   |\n",
    "|         Перезапись          |      |      |  +   |  +   |      |      |\n",
    "| Курор в начале |  +   |  +   |  +   |  +   |      |      |\n",
    "|    Курсор в конце    |      |      |      |      |  +   |  +   |\n",
    "\n",
    "Какой режим использовать?\n",
    "<img src=\"imgs/fileIO.png\" width=\"600\"/>"
   ]
  },
  {
   "cell_type": "markdown",
   "metadata": {
    "pycharm": {
     "name": "#%% md\n"
    }
   },
   "source": [
    "## Байтовые файлы / строки\n",
    "Это обычные файлы, разбивающиеся на куски равного размера в двоичной / шестнадцатиричной / двоичной системе.\n",
    "\n",
    "`00000000  89 50 4e 47 0d 0a 1a 0a  00 00 00 0d 49 48 44 52  |.PNG........IHDR|`\n",
    "\n",
    "`00000010  00 00 00 87 00 00 00 a0  08 03 00 00 00 11 90 8f  |................|`\n",
    "\n",
    "`00000020  b6 00 00 00 04 67 41 4d  41 00 00 d6 d8 d4 4f 58  |.....gAMA.....OX|`\n",
    "\n",
    "`00000030  32 00 00 00 19 74 45 58  74 53 6f 66 74 77 61 72  |2....tEXtSoftwar|`\n",
    "\n",
    "`00000040  65 00 41 64 6f 62 65 20  49 6d 61 67 65 52 65 61  |e.Adobe ImageRea|`\n",
    "\n",
    "`00000050  64 79 71 c9 65 3c 00 00  03 00 50 4c 54 45 22 22  |dyq.e<....PLTE\"\"|`\n",
    "\n",
    "`00000060  22 56 56 56 47 47 47 33  33 33 30 30 30 42 42 42  |\"VVVGGG333000BBB|`\n",
    "\n",
    "`00000070  4b 4b 4b 40 40 40 15 15  15 4f 4f 4f 2c 2c 2c 3c  |KKK@@@...OOO,,,<|`\n",
    "\n",
    "`00000080  3c 3c 3e 3e 3e 3a 39 39  04 04 04 1d 1d 1d 35 35  |<<>>>:99......55|`\n",
    "\n",
    "`00000090  35 51 50 50 37 37 37 11  11 11 25 25 25 0d 0d 0d  |5QPP777...%%%...|`\n",
    "\n",
    "`000000a0  27 27 27 1a 1a 1a 38 38  38 2a 2a 2a 08 08 08 20  |''' ...888**...  |`\n",
    "\n",
    "`000000b0  20 20 17 17 17 2e 2e 2e  13 13 13 bb bb bb 88 88  |  .............. |`"
   ]
  },
  {
   "cell_type": "markdown",
   "metadata": {},
   "source": [
    "## Запись/перезапись:"
   ]
  },
  {
   "cell_type": "code",
   "execution_count": 1,
   "metadata": {},
   "outputs": [],
   "source": [
    "# откроем файл для перезаписи или создадим новый для записи\n",
    "file = open(r'text_files\\new_file.txt', 'w')"
   ]
  },
  {
   "cell_type": "code",
   "execution_count": 2,
   "metadata": {},
   "outputs": [
    {
     "ename": "UnsupportedOperation",
     "evalue": "not readable",
     "output_type": "error",
     "traceback": [
      "\u001b[0;31m---------------------------------------------------------------------------\u001b[0m",
      "\u001b[0;31mUnsupportedOperation\u001b[0m                      Traceback (most recent call last)",
      "\u001b[0;32m<ipython-input-2-f3fc120c03c1>\u001b[0m in \u001b[0;36m<module>\u001b[0;34m\u001b[0m\n\u001b[0;32m----> 1\u001b[0;31m \u001b[0mfile\u001b[0m\u001b[0;34m.\u001b[0m\u001b[0mread\u001b[0m\u001b[0;34m(\u001b[0m\u001b[0;34m)\u001b[0m\u001b[0;34m\u001b[0m\u001b[0;34m\u001b[0m\u001b[0m\n\u001b[0m",
      "\u001b[0;31mUnsupportedOperation\u001b[0m: not readable"
     ]
    }
   ],
   "source": [
    "file.read()"
   ]
  },
  {
   "cell_type": "code",
   "execution_count": 3,
   "metadata": {},
   "outputs": [],
   "source": [
    "py_zen='''Beautiful is better than ugly.\n",
    "Explicit is better than implicit.\n",
    "Simple is better than complex.\n",
    "Complex is better than complicated.\n",
    "Flat is better than nested.\n",
    "Sparse is better than dense.\n",
    "Readability counts.\n",
    "Special cases aren't special enough to break the rules.\n",
    "Although practicality beats purity.\n",
    "Errors should never pass silently.\n",
    "Unless explicitly silenced.\n",
    "In the face of ambiguity, refuse the temptation to guess.\n",
    "There should be one-- and preferably only one --obvious way to do it.\n",
    "Although that way may not be obvious at first unless you're Dutch.\n",
    "Now is better than never.\n",
    "Although never is often better than *right* now.\n",
    "If the implementation is hard to explain, it's a bad idea.\n",
    "If the implementation is easy to explain, it may be a good idea.\n",
    "Namespaces are one honking great idea -- let's do more of those!'''"
   ]
  },
  {
   "cell_type": "code",
   "execution_count": 4,
   "metadata": {},
   "outputs": [
    {
     "data": {
      "text/plain": [
       "822"
      ]
     },
     "execution_count": 4,
     "metadata": {},
     "output_type": "execute_result"
    }
   ],
   "source": [
    "# функция write возвращает число записанных байтов\n",
    "file.write(py_zen)"
   ]
  },
  {
   "cell_type": "code",
   "execution_count": 5,
   "metadata": {},
   "outputs": [],
   "source": [
    "# важно в конце работы файл закрыть, иначе он так и останется висеть открытым в процессе Python, \n",
    "# и придётся вырубать процесс через диспетчер задач\n",
    "file.close()"
   ]
  },
  {
   "cell_type": "markdown",
   "metadata": {},
   "source": [
    "## Чтение:"
   ]
  },
  {
   "cell_type": "code",
   "execution_count": 7,
   "metadata": {},
   "outputs": [
    {
     "name": "stdout",
     "output_type": "stream",
     "text": [
      "Beautiful is better than ugly.\n",
      "Explicit is better than implicit.\n",
      "Simple is better than complex.\n",
      "Complex is better than complicated.\n",
      "Flat is better than nested.\n",
      "Sparse is better than dense.\n",
      "Readability counts.\n",
      "Special cases aren't special enough to break the rules.\n",
      "Although practicality beats purity.\n",
      "Errors should never pass silently.\n",
      "Unless explicitly silenced.\n",
      "In the face of ambiguity, refuse the temptation to guess.\n",
      "There should be one-- and preferably only one --obvious way to do it.\n",
      "Although that way may not be obvious at first unless you're Dutch.\n",
      "Now is better than never.\n",
      "Although never is often better than *right* now.\n",
      "If the implementation is hard to explain, it's a bad idea.\n",
      "If the implementation is easy to explain, it may be a good idea.\n",
      "Namespaces are one honking great idea -- let's do more of those!\n"
     ]
    }
   ],
   "source": [
    "file = open(r'text_files\\new_file.txt', 'r')\n",
    "text = file.read()\n",
    "print(text)\n",
    "file.close()"
   ]
  },
  {
   "cell_type": "markdown",
   "metadata": {},
   "source": [
    "Сначала функция поищет файл, считая название как относительный путь. Если не найдёт, то попробует как абсолютный.\n",
    "\n",
    "Пути вводятся через \"/\" в Unix и через \"\\\" в Windows.\n",
    "\n",
    "Поэтому не забудьте указать Python, что ему не нужно искать в строке спецсимволы или регулярные выражения, иначе в строке ниже он начнёт искать \\U, \\i и т.д.\n",
    "\n",
    "Используйте перед строкой модификатор **r** (т.е. raw string - сырая строка)"
   ]
  },
  {
   "cell_type": "code",
   "execution_count": 8,
   "metadata": {},
   "outputs": [
    {
     "ename": "FileNotFoundError",
     "evalue": "[Errno 2] No such file or directory: 'C:\\\\Users\\\\iom96\\\\Google Диск\\\\НИР\\\\Python\\\\PythonIntroCourse2020\\\\notebooks\\\\new_file.txt'",
     "output_type": "error",
     "traceback": [
      "\u001b[0;31m---------------------------------------------------------------------------\u001b[0m",
      "\u001b[0;31mFileNotFoundError\u001b[0m                         Traceback (most recent call last)",
      "\u001b[0;32m<ipython-input-8-4576bb680cf0>\u001b[0m in \u001b[0;36m<module>\u001b[0;34m\u001b[0m\n\u001b[0;32m----> 1\u001b[0;31m \u001b[0mfile\u001b[0m \u001b[0;34m=\u001b[0m \u001b[0mopen\u001b[0m\u001b[0;34m(\u001b[0m\u001b[0;34mr'C:\\Users\\iom96\\Google Диск\\НИР\\Python\\PythonIntroCourse2020\\notebooks\\new_file.txt'\u001b[0m\u001b[0;34m,\u001b[0m \u001b[0;34m'r'\u001b[0m\u001b[0;34m)\u001b[0m\u001b[0;34m\u001b[0m\u001b[0;34m\u001b[0m\u001b[0m\n\u001b[0m\u001b[1;32m      2\u001b[0m \u001b[0mtext\u001b[0m \u001b[0;34m=\u001b[0m \u001b[0mfile\u001b[0m\u001b[0;34m.\u001b[0m\u001b[0mread\u001b[0m\u001b[0;34m(\u001b[0m\u001b[0;34m)\u001b[0m\u001b[0;34m\u001b[0m\u001b[0;34m\u001b[0m\u001b[0m\n\u001b[1;32m      3\u001b[0m \u001b[0mprint\u001b[0m\u001b[0;34m(\u001b[0m\u001b[0mtext\u001b[0m\u001b[0;34m)\u001b[0m\u001b[0;34m\u001b[0m\u001b[0;34m\u001b[0m\u001b[0m\n\u001b[1;32m      4\u001b[0m \u001b[0mfile\u001b[0m\u001b[0;34m.\u001b[0m\u001b[0mclose\u001b[0m\u001b[0;34m(\u001b[0m\u001b[0;34m)\u001b[0m\u001b[0;34m\u001b[0m\u001b[0;34m\u001b[0m\u001b[0m\n",
      "\u001b[0;31mFileNotFoundError\u001b[0m: [Errno 2] No such file or directory: 'C:\\\\Users\\\\iom96\\\\Google Диск\\\\НИР\\\\Python\\\\PythonIntroCourse2020\\\\notebooks\\\\new_file.txt'"
     ]
    }
   ],
   "source": [
    "file = open(r'C:\\Users\\iom96\\Google Диск\\НИР\\Python\\PythonIntroCourse2020\\notebooks\\new_file.txt', 'r')\n",
    "text = file.read()\n",
    "print(text)\n",
    "file.close()"
   ]
  },
  {
   "cell_type": "code",
   "execution_count": 9,
   "metadata": {},
   "outputs": [
    {
     "data": {
      "text/plain": [
       "['Beautiful is better than ugly.',\n",
       " 'Explicit is better than implicit.',\n",
       " 'Simple is better than complex.',\n",
       " 'Complex is better than complicated.',\n",
       " 'Flat is better than nested.',\n",
       " 'Sparse is better than dense.',\n",
       " 'Readability counts.',\n",
       " \"Special cases aren't special enough to break the rules.\",\n",
       " 'Although practicality beats purity.',\n",
       " 'Errors should never pass silently.',\n",
       " 'Unless explicitly silenced.',\n",
       " 'In the face of ambiguity, refuse the temptation to guess.',\n",
       " 'There should be one-- and preferably only one --obvious way to do it.',\n",
       " \"Although that way may not be obvious at first unless you're Dutch.\",\n",
       " 'Now is better than never.',\n",
       " 'Although never is often better than *right* now.',\n",
       " \"If the implementation is hard to explain, it's a bad idea.\",\n",
       " 'If the implementation is easy to explain, it may be a good idea.',\n",
       " \"Namespaces are one honking great idea -- let's do more of those!\"]"
      ]
     },
     "execution_count": 9,
     "metadata": {},
     "output_type": "execute_result"
    }
   ],
   "source": [
    "text_sep = text.split(\"\\n\")\n",
    "text_sep"
   ]
  },
  {
   "cell_type": "markdown",
   "metadata": {},
   "source": [
    "## Построчное чтение:"
   ]
  },
  {
   "cell_type": "code",
   "execution_count": 10,
   "metadata": {},
   "outputs": [
    {
     "name": "stdout",
     "output_type": "stream",
     "text": [
      "31\n",
      "Beautiful is better than ugly.\n",
      "\n",
      "65\n",
      "Explicit is better than implicit.\n",
      "\n",
      "96\n",
      "Simple is better than complex.\n",
      "\n",
      "132\n",
      "Complex is better than complicated.\n",
      "\n",
      "160\n",
      "Flat is better than nested.\n",
      "\n",
      "189\n",
      "Sparse is better than dense.\n",
      "\n",
      "209\n",
      "Readability counts.\n",
      "\n",
      "265\n",
      "Special cases aren't special enough to break the rules.\n",
      "\n",
      "301\n",
      "Although practicality beats purity.\n",
      "\n",
      "336\n",
      "Errors should never pass silently.\n",
      "\n",
      "364\n",
      "Unless explicitly silenced.\n",
      "\n",
      "422\n",
      "In the face of ambiguity, refuse the temptation to guess.\n",
      "\n",
      "492\n",
      "There should be one-- and preferably only one --obvious way to do it.\n",
      "\n",
      "559\n",
      "Although that way may not be obvious at first unless you're Dutch.\n",
      "\n",
      "585\n",
      "Now is better than never.\n",
      "\n",
      "634\n",
      "Although never is often better than *right* now.\n",
      "\n",
      "693\n",
      "If the implementation is hard to explain, it's a bad idea.\n",
      "\n",
      "758\n",
      "If the implementation is easy to explain, it may be a good idea.\n",
      "\n",
      "822\n",
      "Namespaces are one honking great idea -- let's do more of those!\n"
     ]
    }
   ],
   "source": [
    "# файлы могут быть большими и не помещаться в оперативной памяти\n",
    "file = open(r'text_files\\new_file.txt', 'r')\n",
    "\n",
    "while True:\n",
    "#     можно работать с ним построчно\n",
    "    line = file.readline()\n",
    "    if not line:\n",
    "        break\n",
    "    else:            \n",
    "#         tell показывает позицию курсора в файле\n",
    "        print(file.tell())\n",
    "        print(line)\n",
    "file.close()"
   ]
  },
  {
   "cell_type": "code",
   "execution_count": 11,
   "metadata": {},
   "outputs": [
    {
     "name": "stdout",
     "output_type": "stream",
     "text": [
      "0\n",
      "Beautiful is better than ugly.\n",
      "\n",
      "31\n",
      "0\n",
      "Beautiful is better than ugly.\n",
      "\n",
      "31\n"
     ]
    }
   ],
   "source": [
    "# файлы могут быть большими и не помещаться в оперативной памяти\n",
    "file = open(r'text_files\\new_file.txt', 'r')\n",
    "print(file.tell())\n",
    "print(file.readline())\n",
    "print(file.tell())\n",
    "\n",
    "file.seek(0)\n",
    "\n",
    "print(file.tell())\n",
    "print(file.readline())\n",
    "print(file.tell())\n",
    "\n",
    "file.close()"
   ]
  },
  {
   "cell_type": "markdown",
   "metadata": {},
   "source": [
    "## Менеджеры контекста with ... as\n",
    "Используются, чтобы \"обернуть\" ваш код некоторым менеджером, который заменит конструкцию **try-except-finally**\n",
    "\n",
    "\n",
    "```\n",
    "\"with\" expression [\"as\" target] (\",\" expression [\"as\" target])* \":\"\n",
    "\n",
    "    code\n",
    "```\n",
    "\n",
    "менеджер функции open заставляет интерпретатор **обязательно закрыть файл**, что очень удобно"
   ]
  },
  {
   "cell_type": "code",
   "execution_count": 13,
   "metadata": {
    "scrolled": true
   },
   "outputs": [
    {
     "name": "stdout",
     "output_type": "stream",
     "text": [
      "Beautiful is better than ugly.\n",
      "Explicit is better than implicit.\n",
      "Simple is better than complex.\n",
      "Complex is better than complicated.\n",
      "Flat is better than nested.\n",
      "Sparse is better than dense.\n",
      "Readability counts.\n",
      "Special cases aren't special enough to break the rules.\n",
      "Although practicality beats purity.\n",
      "Errors should never pass silently.\n",
      "Unless explicitly silenced.\n",
      "In the face of ambiguity, refuse the temptation to guess.\n",
      "There should be one-- and preferably only one --obvious way to do it.\n",
      "Although that way may not be obvious at first unless you're Dutch.\n",
      "Now is better than never.\n",
      "Although never is often better than *right* now.\n",
      "If the implementation is hard to explain, it's a bad idea.\n",
      "If the implementation is easy to explain, it may be a good idea.\n",
      "Namespaces are one honking great idea -- let's do more of those!\n",
      "\n"
     ]
    }
   ],
   "source": [
    "with open(r'text_files\\new_file.txt', 'r', encoding='utf-8') as file:\n",
    "    text = file.read()\n",
    "    print(text)"
   ]
  },
  {
   "cell_type": "code",
   "execution_count": 14,
   "metadata": {},
   "outputs": [
    {
     "ename": "ValueError",
     "evalue": "I/O operation on closed file.",
     "output_type": "error",
     "traceback": [
      "\u001b[0;31m---------------------------------------------------------------------------\u001b[0m",
      "\u001b[0;31mValueError\u001b[0m                                Traceback (most recent call last)",
      "\u001b[0;32m<ipython-input-14-fb991e3665e0>\u001b[0m in \u001b[0;36m<module>\u001b[0;34m\u001b[0m\n\u001b[1;32m      1\u001b[0m \u001b[0;31m# файл уже закрыт, читать не могу\u001b[0m\u001b[0;34m\u001b[0m\u001b[0;34m\u001b[0m\u001b[0;34m\u001b[0m\u001b[0m\n\u001b[0;32m----> 2\u001b[0;31m \u001b[0mfile\u001b[0m\u001b[0;34m.\u001b[0m\u001b[0mread\u001b[0m\u001b[0;34m(\u001b[0m\u001b[0;34m)\u001b[0m\u001b[0;34m\u001b[0m\u001b[0;34m\u001b[0m\u001b[0m\n\u001b[0m",
      "\u001b[0;31mValueError\u001b[0m: I/O operation on closed file."
     ]
    }
   ],
   "source": [
    "# файл уже закрыт, читать не могу\n",
    "file.read()"
   ]
  },
  {
   "cell_type": "markdown",
   "metadata": {},
   "source": [
    "## Структурированные файлы\n",
    "Python умеет работать с более сложными файлами:\n",
    "* .csv\n",
    "* XML\n",
    "* HTML\n",
    "* JSON\n",
    "* YAML\n",
    "* и др.\n",
    "\n",
    "Разумный вариант - найти библиотеку (встроенную или стороннюю), которая умеет парсить их и затем работать."
   ]
  },
  {
   "cell_type": "code",
   "execution_count": 15,
   "metadata": {},
   "outputs": [
    {
     "ename": "FileNotFoundError",
     "evalue": "[Errno 2] No such file or directory: 'text_files\\\\new_file.csv'",
     "output_type": "error",
     "traceback": [
      "\u001b[0;31m---------------------------------------------------------------------------\u001b[0m",
      "\u001b[0;31mFileNotFoundError\u001b[0m                         Traceback (most recent call last)",
      "\u001b[0;32m<ipython-input-15-d94789d9fae9>\u001b[0m in \u001b[0;36m<module>\u001b[0;34m\u001b[0m\n\u001b[1;32m      1\u001b[0m \u001b[0;31m# Python умеет работать с .csv-файлами\u001b[0m\u001b[0;34m\u001b[0m\u001b[0;34m\u001b[0m\u001b[0;34m\u001b[0m\u001b[0m\n\u001b[1;32m      2\u001b[0m \u001b[0;32mimport\u001b[0m \u001b[0mcsv\u001b[0m\u001b[0;34m\u001b[0m\u001b[0;34m\u001b[0m\u001b[0m\n\u001b[0;32m----> 3\u001b[0;31m \u001b[0;32mwith\u001b[0m \u001b[0mopen\u001b[0m\u001b[0;34m(\u001b[0m\u001b[0;34mr'text_files\\new_file.csv'\u001b[0m\u001b[0;34m,\u001b[0m \u001b[0;34m'r'\u001b[0m\u001b[0;34m)\u001b[0m \u001b[0;32mas\u001b[0m \u001b[0mfile\u001b[0m\u001b[0;34m:\u001b[0m\u001b[0;34m\u001b[0m\u001b[0;34m\u001b[0m\u001b[0m\n\u001b[0m\u001b[1;32m      4\u001b[0m     \u001b[0mcsv_text\u001b[0m \u001b[0;34m=\u001b[0m \u001b[0mcsv\u001b[0m\u001b[0;34m.\u001b[0m\u001b[0mreader\u001b[0m\u001b[0;34m(\u001b[0m\u001b[0mfile\u001b[0m\u001b[0;34m)\u001b[0m\u001b[0;34m\u001b[0m\u001b[0;34m\u001b[0m\u001b[0m\n\u001b[1;32m      5\u001b[0m     \u001b[0macc\u001b[0m \u001b[0;34m=\u001b[0m \u001b[0;34m[\u001b[0m\u001b[0mrow\u001b[0m \u001b[0;32mfor\u001b[0m \u001b[0mrow\u001b[0m \u001b[0;32min\u001b[0m \u001b[0mcsv_text\u001b[0m\u001b[0;34m]\u001b[0m\u001b[0;34m\u001b[0m\u001b[0;34m\u001b[0m\u001b[0m\n",
      "\u001b[0;31mFileNotFoundError\u001b[0m: [Errno 2] No such file or directory: 'text_files\\\\new_file.csv'"
     ]
    }
   ],
   "source": [
    "# Python умеет работать с .csv-файлами\n",
    "import csv\n",
    "with open(r'text_files\\new_file.csv', 'r') as file:\n",
    "    csv_text = csv.reader(file)\n",
    "    acc = [row for row in csv_text] \n",
    "          \n",
    "acc"
   ]
  },
  {
   "cell_type": "code",
   "execution_count": 29,
   "metadata": {},
   "outputs": [
    {
     "data": {
      "text/html": [
       "<div>\n",
       "<style scoped>\n",
       "    .dataframe tbody tr th:only-of-type {\n",
       "        vertical-align: middle;\n",
       "    }\n",
       "\n",
       "    .dataframe tbody tr th {\n",
       "        vertical-align: top;\n",
       "    }\n",
       "\n",
       "    .dataframe thead th {\n",
       "        text-align: right;\n",
       "    }\n",
       "</style>\n",
       "<table border=\"1\" class=\"dataframe\">\n",
       "  <thead>\n",
       "    <tr style=\"text-align: right;\">\n",
       "      <th></th>\n",
       "      <th>col1</th>\n",
       "      <th>col2</th>\n",
       "      <th>col3</th>\n",
       "    </tr>\n",
       "  </thead>\n",
       "  <tbody>\n",
       "    <tr>\n",
       "      <th>0</th>\n",
       "      <td>val1</td>\n",
       "      <td>val2</td>\n",
       "      <td>val3</td>\n",
       "    </tr>\n",
       "    <tr>\n",
       "      <th>1</th>\n",
       "      <td>1</td>\n",
       "      <td>2</td>\n",
       "      <td>3</td>\n",
       "    </tr>\n",
       "  </tbody>\n",
       "</table>\n",
       "</div>"
      ],
      "text/plain": [
       "   col1  col2  col3\n",
       "0  val1  val2  val3\n",
       "1     1     2     3"
      ]
     },
     "execution_count": 29,
     "metadata": {},
     "output_type": "execute_result"
    }
   ],
   "source": [
    "# но разумнее установить для этого библиотеку Pandas (от англ. Pan Data)\n",
    "import pandas as pd\n",
    "data = pd.read_csv(r'text_files\\new_file.csv', sep=';')\n",
    "data"
   ]
  },
  {
   "cell_type": "markdown",
   "metadata": {
    "pycharm": {
     "name": "#%% md\n"
    }
   },
   "source": [
    "## Хорошо бы сюда добавить информацию про OS и Paths\n",
    "Например, [отсюда](https://www.datacamp.com/community/tutorials/reading-writing-files-python)"
   ]
  }
 ],
 "metadata": {
  "kernelspec": {
   "display_name": "Python 3 (ipykernel)",
   "language": "python",
   "name": "python3"
  },
  "language_info": {
   "codemirror_mode": {
    "name": "ipython",
    "version": 3
   },
   "file_extension": ".py",
   "mimetype": "text/x-python",
   "name": "python",
   "nbconvert_exporter": "python",
   "pygments_lexer": "ipython3",
   "version": "3.9.7"
  },
  "varInspector": {
   "cols": {
    "lenName": 16,
    "lenType": 16,
    "lenVar": 40
   },
   "kernels_config": {
    "python": {
     "delete_cmd_postfix": "",
     "delete_cmd_prefix": "del ",
     "library": "var_list.py",
     "varRefreshCmd": "print(var_dic_list())"
    },
    "r": {
     "delete_cmd_postfix": ") ",
     "delete_cmd_prefix": "rm(",
     "library": "var_list.r",
     "varRefreshCmd": "cat(var_dic_list()) "
    }
   },
   "types_to_exclude": [
    "module",
    "function",
    "builtin_function_or_method",
    "instance",
    "_Feature"
   ],
   "window_display": false
  }
 },
 "nbformat": 4,
 "nbformat_minor": 2
}
