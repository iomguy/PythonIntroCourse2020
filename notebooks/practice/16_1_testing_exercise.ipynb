{
 "cells": [
  {
   "cell_type": "code",
   "execution_count": null,
   "metadata": {},
   "outputs": [],
   "source": [
    "# Установка библиотек\n",
    "# import sys\n",
    "# !{sys.executable} -m pip install pytest\n",
    "# !{sys.executable} -m pip install ipytest\n",
    "\n",
    "%pip install pytest\n",
    "%pip install ipytest\n",
    "\n",
    "# ipytest позволяет запускать pytest в jupyter тетрадях\n",
    "import ipytest\n",
    "import pytest\n",
    "\n",
    "# включает магические команды %%\n",
    "ipytest.autoconfig()\n",
    "__file__ = 'testing1_exercise.ipynb'"
   ]
  },
  {
   "cell_type": "markdown",
   "metadata": {},
   "source": [
    "# 1. Создание вашего первого теста\n",
    "Ниже реализована функция `get_list_of_divisible_by_five`. Напишите под неё 2 теста: один должен проходиться, другой - нет\n"
   ]
  },
  {
   "cell_type": "code",
   "execution_count": null,
   "metadata": {},
   "outputs": [],
   "source": [
    "def get_list_of_divisible_by_five(numbers):\n",
    "    '''Return a list of numbers which are divisible by five in the list got as an argument'''\n",
    "    result = []\n",
    "    for num in numbers:\n",
    "        if not num % 5:\n",
    "            result.append(num)\n",
    "\n",
    "    return result"
   ]
  },
  {
   "cell_type": "code",
   "execution_count": null,
   "metadata": {},
   "outputs": [],
   "source": [
    "%%ipytest\n",
    "\n",
    "def test_get_list_of_divisible_by_five_pass():\n",
    "    # Ваша реализация\n",
    "    \n",
    "def test_get_list_of_divisible_by_five_error():\n",
    "    # Ваша реализация"
   ]
  }
 ],
 "metadata": {
  "celltoolbar": "Необработанный формат ячейки",
  "kernelspec": {
   "display_name": "Python 3 (ipykernel)",
   "language": "python",
   "name": "python3"
  },
  "language_info": {
   "codemirror_mode": {
    "name": "ipython",
    "version": 3
   },
   "file_extension": ".py",
   "mimetype": "text/x-python",
   "name": "python",
   "nbconvert_exporter": "python",
   "pygments_lexer": "ipython3",
   "version": "3.9.7"
  }
 },
 "nbformat": 4,
 "nbformat_minor": 2
}
