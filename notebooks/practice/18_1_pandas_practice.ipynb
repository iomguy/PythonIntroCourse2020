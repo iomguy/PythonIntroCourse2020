{
 "cells": [
  {
   "cell_type": "code",
   "execution_count": null,
   "metadata": {},
   "outputs": [],
   "source": [
    "import pandas as pd\n",
    "import numpy as np"
   ]
  },
  {
   "cell_type": "markdown",
   "metadata": {},
   "source": [
    "# Создание столбцов\n",
    "Заполните пропуски ____ так, чтобы создать из списков два столбца **series**, а затем вывести столбец, заполненный единицами или True в тех местах, где эти столбцы совпадают.\n",
    "Так, чтобы получилось:\n",
    "\n",
    "|    |   0 |\n",
    "|---:|----:|\n",
    "|  0 |   0 |\n",
    "|  1 |   0 |\n",
    "|  2 |   0 |\n",
    "|  3 |   0 |\n",
    "|  4 |   1 |"
   ]
  },
  {
   "cell_type": "code",
   "execution_count": null,
   "metadata": {},
   "outputs": [],
   "source": [
    "ds1 = pd.____([2, 4, 6, 8, 10])\n",
    "ds2 = pd.____([1, 3, 5, 7, 10])"
   ]
  },
  {
   "cell_type": "code",
   "execution_count": null,
   "metadata": {},
   "outputs": [],
   "source": [
    "print(ds1 ____ ds2)"
   ]
  },
  {
   "cell_type": "markdown",
   "metadata": {},
   "source": [
    "# Разные способы создавать таблицы DataFrame\n",
    "### 1. Заполните пропуски ____ так, чтобы создать таблицу с именоваными строками, чтобы получилась такая таблица:\n",
    "\n",
    "|    | name      |   score |   attempts | qualify   |\n",
    "|:---|:----------|--------:|-----------:|:----------|\n",
    "| a  | Anastasia |    12.5 |          1 | yes       |\n",
    "| b  | Dima      |     9   |          3 | no        |\n",
    "| c  | Katherine |    16.5 |          2 | yes       |\n",
    "| d  | James     |   nan   |          3 | no        |\n",
    "| e  | Emily     |     9   |          2 | no        |\n",
    "| f  | Michael   |    20   |          3 | yes       |\n",
    "| g  | Matthew   |    14.5 |          1 | yes       |\n",
    "| h  | Laura     |   nan   |          1 | no        |\n",
    "| i  | Kevin     |     8   |          2 | no        |\n",
    "| j  | Jonas     |    19   |          1 | yes       |"
   ]
  },
  {
   "cell_type": "code",
   "execution_count": null,
   "metadata": {},
   "outputs": [],
   "source": [
    "# NaN - т.е. пустое значение - добавляются с помощью NumPy\n",
    "# столбцы в таблице можно задать с помощью словаря\n",
    "# тут ничего исправлять не нужно\n",
    "\n",
    "exam_data  = {'name': ['Anastasia', 'Dima', 'Katherine', 'James', 'Emily', 'Michael', 'Matthew', 'Laura', 'Kevin', 'Jonas'],\n",
    "        'score': [12.5, 9, 16.5, np.nan, 9, 20, 14.5, np.nan, 8, 19],\n",
    "        'attempts': [1, 3, 2, 3, 2, 3, 1, 1, 2, 1],\n",
    "        'qualify': ['yes', 'no', 'yes', 'no', 'no', 'yes', 'yes', 'no', 'no', 'yes']}\n",
    "labels = ['a', 'b', 'c', 'd', 'e', 'f', 'g', 'h', 'i', 'j']"
   ]
  },
  {
   "cell_type": "code",
   "execution_count": null,
   "metadata": {},
   "outputs": [],
   "source": [
    "# вспомните, какой аргумент позволяет задать именованые индексы для строк\n",
    "# колонки мы в прошлый раз задавали с помощью аргумента \"columns\", а индексы - с помощью аргумента ...\n",
    "\n",
    "df = pd.DataFrame(exam_data , ____=labels)\n",
    "df"
   ]
  },
  {
   "cell_type": "markdown",
   "metadata": {},
   "source": [
    "### 2. Выведите её первые три этой таблицы"
   ]
  },
  {
   "cell_type": "code",
   "execution_count": null,
   "metadata": {},
   "outputs": [],
   "source": [
    "# выведите первые три строки таблицы\n",
    "# вспоминайте, с помощью каких функций получать доступ к строкам по имени (loc), а с помощью каких - по индексу\n",
    "\n",
    "df_three_rows = df.____[:3]\n",
    "df_three_rows"
   ]
  },
  {
   "cell_type": "code",
   "execution_count": null,
   "metadata": {},
   "outputs": [],
   "source": [
    "assert str(df_three_rows) == \"        name  score  attempts qualify\\na  Anastasia   12.5         1     yes\\nb       Dima    9.0         3      no\\nc  Katherine   16.5         2     yes\""
   ]
  },
  {
   "cell_type": "markdown",
   "metadata": {},
   "source": [
    "### 3. Добавьте к таблице новый столбец \"Color\""
   ]
  },
  {
   "cell_type": "code",
   "execution_count": null,
   "metadata": {},
   "outputs": [],
   "source": [
    "# как получать доступ к столбцам таблиц? Что-то там про аналогию со словарями\n",
    "color = ['Red','Blue','Orange','Red','White','White','Blue','Green','Green','Red']\n",
    "df[____] = color\n",
    "df"
   ]
  },
  {
   "cell_type": "code",
   "execution_count": null,
   "metadata": {},
   "outputs": [],
   "source": [
    "assert str(df) == \"        name  score  attempts qualify   color\\na  Anastasia   12.5         1     yes     Red\\nb       Dima    9.0         3      no    Blue\\nc  Katherine   16.5         2     yes  Orange\\nd      James    NaN         3      no     Red\\ne      Emily    9.0         2      no   White\\nf    Michael   20.0         3     yes   White\\ng    Matthew   14.5         1     yes    Blue\\nh      Laura    NaN         1      no   Green\\ni      Kevin    8.0         2      no   Green\\nj      Jonas   19.0         1     yes     Red\""
   ]
  },
  {
   "cell_type": "markdown",
   "metadata": {},
   "source": [
    "### 4. Выведите таблицу, поменяв колонки местами там, чтобы получилось\n",
    "\n",
    "|    | color   |   score |   attempts | name      | qualify   |\n",
    "|:---|:--------|--------:|-----------:|:----------|:----------|\n",
    "| a  | Red     |    12.5 |          1 | Anastasia | yes       |\n",
    "| b  | Blue    |     9   |          3 | Dima      | no        |\n",
    "| c  | Orange  |    16.5 |          2 | Katherine | yes       |\n",
    "| d  | Red     |   nan   |          3 | James     | no        |\n",
    "| e  | White   |     9   |          2 | Emily     | no        |\n",
    "| f  | White   |    20   |          3 | Michael   | yes       |\n",
    "| g  | Blue    |    14.5 |          1 | Matthew   | yes       |\n",
    "| h  | Green   |   nan   |          1 | Laura     | no        |\n",
    "| i  | Green   |     8   |          2 | Kevin     | no        |\n",
    "| j  | Red     |    19   |          1 | Jonas     | yes       |"
   ]
  },
  {
   "cell_type": "code",
   "execution_count": null,
   "metadata": {},
   "outputs": [],
   "source": [
    "# заметьте, исходную таблицу эта операция не поменяет\n",
    "# нужно создать новую\n",
    "\n",
    "df_new_order = df[[____, ____, ____, ____, ____]]\n",
    "df_new_order"
   ]
  },
  {
   "cell_type": "code",
   "execution_count": null,
   "metadata": {},
   "outputs": [],
   "source": [
    "assert str(df_new_order) == \"    color  score  attempts       name qualify\\na     Red   12.5         1  Anastasia     yes\\nb    Blue    9.0         3       Dima      no\\nc  Orange   16.5         2  Katherine     yes\\nd     Red    NaN         3      James      no\\ne   White    9.0         2      Emily      no\\nf   White   20.0         3    Michael     yes\\ng    Blue   14.5         1    Matthew     yes\\nh   Green    NaN         1      Laura      no\\ni   Green    8.0         2      Kevin      no\\nj     Red   19.0         1      Jonas     yes\""
   ]
  }
 ],
 "metadata": {
  "kernelspec": {
   "display_name": "Python 3",
   "language": "python",
   "name": "python3"
  },
  "language_info": {
   "codemirror_mode": {
    "name": "ipython",
    "version": 3
   },
   "file_extension": ".py",
   "mimetype": "text/x-python",
   "name": "python",
   "nbconvert_exporter": "python",
   "pygments_lexer": "ipython3",
   "version": "3.8.3"
  }
 },
 "nbformat": 4,
 "nbformat_minor": 4
}
