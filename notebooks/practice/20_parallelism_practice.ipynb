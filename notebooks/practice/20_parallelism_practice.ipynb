{
 "cells": [
  {
   "cell_type": "code",
   "execution_count": null,
   "id": "678ba417",
   "metadata": {},
   "outputs": [],
   "source": [
    "import threading\n",
    "import time"
   ]
  },
  {
   "cell_type": "code",
   "execution_count": null,
   "id": "66ede022",
   "metadata": {},
   "outputs": [],
   "source": [
    "threading.enumerate()"
   ]
  },
  {
   "cell_type": "markdown",
   "id": "0c17db3d",
   "metadata": {},
   "source": [
    "## Потоки и присоединение к основному потоку\n",
    "Создайте поток t, запустите его\n",
    "\n",
    "\n",
    "**1) Запустите ячейку ниже и подождите несколько секунд, а после этого запустите следующую ячейке (с print и join)**\n",
    "\n",
    "Почему так произошло?\n",
    "\n",
    "**2) Запустите ячейку ниже и сразу же запустите ячейку с print и join.**\n",
    "\n",
    "Результат разный? Почему?"
   ]
  },
  {
   "cell_type": "code",
   "execution_count": null,
   "id": "11e42385",
   "metadata": {},
   "outputs": [],
   "source": [
    "def non_daemon():\n",
    "    time.sleep(5)\n",
    "    print('Test non-daemon')\n",
    "\n",
    "\n",
    "# создайте поток\n",
    "t = threading.______(name='non-daemon', target=non_daemon)\n",
    "\n",
    "# запустите поток\n",
    "t._____()\n",
    "\n",
    "# выведем на экран все потоки, основного потока\n",
    "threading.enumerate()"
   ]
  },
  {
   "cell_type": "code",
   "execution_count": null,
   "id": "09ca2533",
   "metadata": {},
   "outputs": [],
   "source": [
    "print('Test one')\n",
    "t.join()\n",
    "print('Test one')"
   ]
  },
  {
   "cell_type": "code",
   "execution_count": null,
   "id": "6793ea83",
   "metadata": {},
   "outputs": [],
   "source": [
    "def non_daemon():\n",
    "    time.sleep(5)\n",
    "    print('Test non-daemon')\n",
    "\n",
    "\n",
    "# создайте поток\n",
    "t = threading.______(name='non-daemon', target=non_daemon)\n",
    "\n",
    "# запустите поток\n",
    "t._____()\n",
    "\n",
    "# выведем на экран все потоки, основного потока\n",
    "threading.enumerate()"
   ]
  },
  {
   "cell_type": "code",
   "execution_count": null,
   "id": "09e6cae1",
   "metadata": {},
   "outputs": [],
   "source": [
    "print('Test one')\n",
    "print('Test one')\n",
    "t.join()"
   ]
  },
  {
   "cell_type": "markdown",
   "id": "3d13066d",
   "metadata": {},
   "source": [
    "## Многопоточность и ускорение расчётов\n",
    "Реализуйте простое численное интегрирование и проверьте работу многопоточной версии\n",
    "\n",
    "\n",
    "![Well](https://uploads.toptal.io/blog/image/126087/toptal-blog-image-1526311066247-4ce28d0e2a6878d80c5374d2c53e8aff.png)"
   ]
  },
  {
   "cell_type": "code",
   "execution_count": null,
   "id": "bb37cbeb",
   "metadata": {},
   "outputs": [],
   "source": [
    "import math"
   ]
  },
  {
   "cell_type": "code",
   "execution_count": null,
   "id": "03e45ed6",
   "metadata": {},
   "outputs": [],
   "source": [
    "def integrate(f, a, b, *, n_iter=1000):\n",
    "    acc = 0\n",
    "    step = (b - a) / ______\n",
    "    for i in range(n_iter):\n",
    "        acc += f(a + i * step) * step\n",
    "    return acc"
   ]
  },
  {
   "cell_type": "code",
   "execution_count": null,
   "id": "b4c2bbe1",
   "metadata": {},
   "outputs": [],
   "source": [
    "# проверьте её работу\n",
    "integrate(math.cos, 0, math.pi / 2)"
   ]
  },
  {
   "cell_type": "code",
   "execution_count": null,
   "id": "1566b638",
   "metadata": {},
   "outputs": [],
   "source": [
    "from concurrent.futures import ThreadPoolExecutor, as_completed\n",
    "from functools import partial"
   ]
  },
  {
   "cell_type": "code",
   "execution_count": null,
   "id": "348211a5",
   "metadata": {},
   "outputs": [],
   "source": [
    "# теперь сделам то же самое с помощью пула потоков ThreadPoolExecutor\n",
    "\n",
    "def integrate_async(f, a, b, *, n_jobs, n_iter=1000):\n",
    "    executor = ThreadPoolExecutor(max_workers=n_jobs)\n",
    "    # partial создаёт новую функцию, для которой часть параметров исходной зафиксированы\n",
    "    spawn = partial(executor.submit, integrate, f, n_iter=n_iter // n_jobs)\n",
    "    \n",
    "    step = (b - a) / n_jobs\n",
    "    fs = [spawn(a + i * step, a + (i + 1) * step) for i in range(n_jobs)]\n",
    "    return sum(f.result() for f in as_completed(fs))"
   ]
  },
  {
   "cell_type": "markdown",
   "id": "b275de84",
   "metadata": {},
   "source": [
    "Что выйдет по времени и почему так?"
   ]
  },
  {
   "cell_type": "code",
   "execution_count": null,
   "id": "697abbe4",
   "metadata": {},
   "outputs": [],
   "source": [
    "%%timeit -n100\n",
    "integrate(math.cos, 0, math.pi / 2, n_iter=10**5)"
   ]
  },
  {
   "cell_type": "code",
   "execution_count": null,
   "id": "79356294",
   "metadata": {},
   "outputs": [],
   "source": [
    "%%timeit -n100\n",
    "integrate_async(math.cos, 0, math.pi / 2, n_iter=10**5, n_jobs=2)"
   ]
  },
  {
   "cell_type": "code",
   "execution_count": null,
   "id": "5c4217d7",
   "metadata": {},
   "outputs": [],
   "source": [
    "%%timeit -n100\n",
    "integrate_async(math.cos, 0, math.pi / 2, n_iter=10**5, n_jobs=4)"
   ]
  },
  {
   "attachments": {},
   "cell_type": "markdown",
   "id": "b7589113",
   "metadata": {},
   "source": [
    "## Многопроцессность\n",
    "\n",
    "![Well](https://uploads.toptal.io/blog/image/126088/toptal-blog-image-1526311071925-a4dc10cda4cf6b88a7f11fd5d4c76f9a.png)"
   ]
  },
  {
   "cell_type": "code",
   "execution_count": null,
   "id": "4e797ab8",
   "metadata": {},
   "outputs": [],
   "source": [
    "from concurrent.futures import ProcessPoolExecutor, as_completed"
   ]
  },
  {
   "cell_type": "code",
   "execution_count": null,
   "id": "5649fb93",
   "metadata": {},
   "outputs": [],
   "source": [
    "def integrate_async_multiproc(f, a, b, *, n_jobs, n_iter=1000):\n",
    "    executor = ProcessPoolExecutor(max_workers=n_jobs)\n",
    "    spawn = partial(executor.submit, integrate, f, n_iter=n_iter // n_jobs)\n",
    "    \n",
    "    step = (b - a) / n_jobs\n",
    "    fs = [spawn(a + i * step, a + (i + 1) * step) for i in range(n_jobs)]\n",
    "    return sum(f.result() for f in as_completed(fs))"
   ]
  },
  {
   "cell_type": "code",
   "execution_count": null,
   "id": "3a861640",
   "metadata": {},
   "outputs": [],
   "source": [
    "# если вы на Windows, поздравляю - код упадёт\n",
    "%%timeit -n100\n",
    "integrate_async_multiproc(math.cos, 0, math.pi / 2, n_iter=10**5, n_jobs=2)"
   ]
  },
  {
   "cell_type": "markdown",
   "id": "b3b1bdb1",
   "metadata": {},
   "source": [
    "## Многопроцессность и joblib"
   ]
  },
  {
   "cell_type": "code",
   "execution_count": null,
   "id": "495d974b",
   "metadata": {},
   "outputs": [],
   "source": [
    "from joblib import Parallel, delayed"
   ]
  },
  {
   "cell_type": "code",
   "execution_count": null,
   "id": "dd8dc7a7",
   "metadata": {},
   "outputs": [],
   "source": [
    "def integrate_async_multiproc(f, a, b, *, n_jobs, n_iter=1000, backend=None):\n",
    "    step = (b - a) / n_jobs\n",
    "    \n",
    "    with Parallel(n_jobs=n_jobs, backend=backend) as parallel:\n",
    "        fs = (delayed(integrate)(f, a + i * step, a + (i + 1) * step, n_iter=n_iter // n_jobs) for i in range(n_jobs))\n",
    "    \n",
    "    return sum(parallel(fs))"
   ]
  },
  {
   "cell_type": "code",
   "execution_count": null,
   "id": "318fba73",
   "metadata": {},
   "outputs": [],
   "source": [
    "%%timeit -n100\n",
    "integrate_async_multiproc(math.cos, 0, math.pi / 2, n_iter=10**5, n_jobs=2)"
   ]
  }
 ],
 "metadata": {
  "kernelspec": {
   "display_name": "Python 3 (ipykernel)",
   "language": "python",
   "name": "python3"
  },
  "language_info": {
   "codemirror_mode": {
    "name": "ipython",
    "version": 3
   },
   "file_extension": ".py",
   "mimetype": "text/x-python",
   "name": "python",
   "nbconvert_exporter": "python",
   "pygments_lexer": "ipython3",
   "version": "3.9.7"
  }
 },
 "nbformat": 4,
 "nbformat_minor": 5
}
