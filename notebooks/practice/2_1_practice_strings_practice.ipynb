{
 "cells": [
  {
   "cell_type": "markdown",
   "metadata": {},
   "source": [
    "# 1. Заполните пропущенные интервалы\n",
    "Заполните `____`, чтобы получились верные значения переменных `lower_cased`, `stripped` и `stripped_lower_case`."
   ]
  },
  {
   "cell_type": "code",
   "execution_count": null,
   "metadata": {},
   "outputs": [],
   "source": [
    "original = ' Python strings are COOL! '\n",
    "lower_cased = original._____\n",
    "stripped = ____.strip()\n",
    "stripped_lower_cased = original._____._____"
   ]
  },
  {
   "cell_type": "markdown",
   "metadata": {},
   "source": [
    "Проверим, что результат правильный.\n",
    "\n",
    "Функция `assert` вызовет [`AssertionError`](https://docs.python.org/3/library/exceptions.html#AssertionError) если выражение справа от неё не True"
   ]
  },
  {
   "cell_type": "code",
   "execution_count": null,
   "metadata": {
    "editable": false
   },
   "outputs": [],
   "source": [
    "assert lower_cased == ' python strings are cool! '\n",
    "assert stripped == 'Python strings are COOL!'\n",
    "assert stripped_lower_cased == 'python strings are cool!'"
   ]
  },
  {
   "cell_type": "markdown",
   "metadata": {},
   "source": [
    "# 2. Улучшите некрасивую строку\n",
    "Используйте метод `str`, чтобы преобразовать `ugly` к желаемой `pretty`."
   ]
  },
  {
   "cell_type": "code",
   "execution_count": null,
   "metadata": {
    "editable": false
   },
   "outputs": [],
   "source": [
    "ugly = ' tiTle of MY new Book\\n\\n'"
   ]
  },
  {
   "cell_type": "code",
   "execution_count": null,
   "metadata": {},
   "outputs": [],
   "source": [
    "# Ваше решение:\n",
    "pretty = 'TODO'"
   ]
  },
  {
   "cell_type": "markdown",
   "metadata": {},
   "source": [
    "Проверим, что результат правильный.\n",
    "\n",
    "Функция `assert` вызовет [`AssertionError`](https://docs.python.org/3/library/exceptions.html#AssertionError) если выражение справа от неё не True."
   ]
  },
  {
   "cell_type": "code",
   "execution_count": null,
   "metadata": {
    "editable": false
   },
   "outputs": [],
   "source": [
    "print('pretty: {}'.format(pretty))\n",
    "assert pretty == 'Title Of My New Book'"
   ]
  },
  {
   "cell_type": "markdown",
   "metadata": {},
   "source": [
    "# 3. Составьте строку из других строк\n",
    "Создайте `sentence`, используя `verb`, `language` и `punctuation` и любые другие строки, которые вам могут понадобиться."
   ]
  },
  {
   "cell_type": "code",
   "execution_count": null,
   "metadata": {
    "editable": false
   },
   "outputs": [],
   "source": [
    "verb = 'is'\n",
    "language = 'Python'\n",
    "punctuation = '!'"
   ]
  },
  {
   "cell_type": "code",
   "execution_count": null,
   "metadata": {},
   "outputs": [],
   "source": [
    "# Ваше решение:\n",
    "sentence = 'TODO'"
   ]
  },
  {
   "cell_type": "code",
   "execution_count": null,
   "metadata": {
    "editable": false
   },
   "outputs": [],
   "source": [
    "print('sentence: {}'.format(sentence))\n",
    "assert sentence == 'Learning Python is fun!'"
   ]
  }
 ],
 "metadata": {
  "kernelspec": {
   "display_name": "Python 3 (ipykernel)",
   "language": "python",
   "name": "python3"
  },
  "language_info": {
   "codemirror_mode": {
    "name": "ipython",
    "version": 3
   },
   "file_extension": ".py",
   "mimetype": "text/x-python",
   "name": "python",
   "nbconvert_exporter": "python",
   "pygments_lexer": "ipython3",
   "version": "3.10.2"
  }
 },
 "nbformat": 4,
 "nbformat_minor": 1
}
