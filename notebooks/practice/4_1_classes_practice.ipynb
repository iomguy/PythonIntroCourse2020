{
 "cells": [
  {
   "cell_type": "markdown",
   "metadata": {},
   "source": [
    "# 1. Заполните пропуски в классе `Calculator`\n",
    "Заполните пропуски  `____` в реализации класса `Calculator` так, чтобы затем пройти проверки `assert` ниже."
   ]
  },
  {
   "cell_type": "code",
   "execution_count": null,
   "metadata": {},
   "outputs": [],
   "source": [
    "class Calculator:\n",
    "    \"\"\"Класс, который содержит 2 артибута-числа.\n",
    "    Умеет возводить одно в степень другого и складывать их с третьим числом\n",
    "    с помощью методов\"\"\"\n",
    "    def __init__(self, var1, ____):\n",
    "        \"\"\"Конструктор объектов. Будет вызван при создании нового объекта этого класса\"\"\"\n",
    "        self.____ = var1\n",
    "        self.____ = _____\n",
    "    \n",
    "    def calculate_power(self):\n",
    "        return self.____ ** ____.____\n",
    "    \n",
    "    def calculate_sum(____, var3):\n",
    "        return ____.____ + ____.____ + var3"
   ]
  },
  {
   "cell_type": "code",
   "execution_count": null,
   "metadata": {},
   "outputs": [],
   "source": [
    "calc = Calculator(2, 3)\n",
    "assert calc.calculate_power() == 8\n",
    "assert calc.calculate_sum(4) == 9"
   ]
  },
  {
   "cell_type": "markdown",
   "metadata": {},
   "source": [
    "# 2. Доделайте класс `StringManipulator`\n",
    "Заполните пропуски `____` и доделайте реализацию метода `make_title`, чтобы затем пройти проверки `assert` в блоках кода ниже.\n",
    "\n",
    "Заметьте, будет проверяться описание этого класса. Кроме того, атрибут `category` - это атрибут всего класса, а не конкретного объекта."
   ]
  },
  {
   "cell_type": "code",
   "execution_count": null,
   "metadata": {},
   "outputs": [],
   "source": [
    "class StringManipulator:\n",
    "    \"\"\"____\"\"\"\n",
    "    \n",
    "    category = ____\n",
    "    \n",
    "    def __init__(self, original):\n",
    "        self.string = ____\n",
    "        \n",
    "    def reverse_words(self):\n",
    "        \"\"\"разворачивает атрибут string наоборот\"\"\"        \n",
    "        # words - список слов, разделённых пробелами\n",
    "        words = self.string.____\n",
    "        # reversed меняет порядок элементов в списке наоборот\n",
    "        self.string = ' '.join(reversed(____))\n",
    "        \n",
    "    def make_title(self):\n",
    "        # наполните этот метод\n",
    "        # ниже видно, что он переводит, например, строку \"cOOL pyThON\" в \"Python Cool\"\n",
    "        # чтобы поменять местами порядок слов, тут можно воспользоваться методом выше\n",
    "        \n",
    "    def get_manipulated(____):\n",
    "        \"\"\"возвращает атрибут string после всего, что мы с ним сделали с помощью других методов\"\"\"\n",
    "        return self._____"
   ]
  },
  {
   "cell_type": "code",
   "execution_count": null,
   "metadata": {},
   "outputs": [],
   "source": [
    "assert StringManipulator.__doc__ == 'Docstring of StringManipulator'\n",
    "assert StringManipulator.category == 'Manipulator'\n",
    "\n",
    "str_manip = StringManipulator('cOOL pyThON')\n",
    "\n",
    "str_manip.reverse_words()\n",
    "assert str_manip.get_manipulated() == 'pyThON cOOL'\n",
    "\n",
    "str_manip.make_title()\n",
    "assert str_manip.get_manipulated() == 'Python Cool'"
   ]
  },
  {
   "cell_type": "markdown",
   "metadata": {},
   "source": [
    "# 3. Создайте класс `Dog`\n",
    "Создайте класс `Dog` такой, что:\n",
    "* Пёсики тратят энергию на лай и восстанавливают её с помощью сна\n",
    "* При создании нового пёсика (объекта класса `Dog`) у него будет 10 очков энергии\n",
    "* `Dog` имеет метод `sleep` который повышает энергию на 2 очка\n",
    "* `Dog` имеет метод `bark` который тратит 1 очко энергии\n",
    "* `Dog` имеет метод `get_energy` который возвращает текущее значение энергии пёсика"
   ]
  },
  {
   "cell_type": "code",
   "execution_count": null,
   "metadata": {},
   "outputs": [],
   "source": [
    "class Dog:\n",
    "    # Ваша реализаций поля (атрибута) с энергией и конструктора __init__, который присвоит 10 очков этой энергии\n",
    "    # и Ваша реализация трёх методов выше, которые будут эту энергитю пенять у конкретного пёсика    "
   ]
  },
  {
   "cell_type": "code",
   "execution_count": null,
   "metadata": {
    "editable": false
   },
   "outputs": [],
   "source": [
    "doge = Dog()\n",
    "assert doge.get_energy() == 10\n",
    "\n",
    "doge.bark()\n",
    "doge.bark()\n",
    "doge.bark()\n",
    "assert doge.get_energy() == 7\n",
    "\n",
    "doge.sleep()\n",
    "assert doge.get_energy() == 9\n",
    "\n",
    "another_doge = Dog()\n",
    "assert another_doge.get_energy() == 10"
   ]
  }
 ],
 "metadata": {
  "celltoolbar": "Edit Metadata",
  "kernelspec": {
   "display_name": "Python 3 (ipykernel)",
   "language": "python",
   "name": "python3"
  },
  "language_info": {
   "codemirror_mode": {
    "name": "ipython",
    "version": 3
   },
   "file_extension": ".py",
   "mimetype": "text/x-python",
   "name": "python",
   "nbconvert_exporter": "python",
   "pygments_lexer": "ipython3",
   "version": "3.10.2"
  }
 },
 "nbformat": 4,
 "nbformat_minor": 2
}
