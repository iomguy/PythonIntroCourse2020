{
 "cells": [
  {
   "cell_type": "code",
   "execution_count": 1,
   "id": "66b1dc85",
   "metadata": {},
   "outputs": [],
   "source": [
    "import sys\n",
    "from PyQt5 import QtWidgets\n",
    "from PyQt5.QtWidgets import QWidget, QToolTip, QPushButton, QApplication\n",
    "from PyQt5.QtGui import QIcon, QFont"
   ]
  },
  {
   "cell_type": "markdown",
   "id": "0e01dcdf",
   "metadata": {},
   "source": [
    "# Окно QWidget\n",
    "Замените пропуски ________ ниже, чтобы создать окно с названием и иконкой"
   ]
  },
  {
   "cell_type": "code",
   "execution_count": 2,
   "id": "4391e0b0",
   "metadata": {},
   "outputs": [],
   "source": [
    "# создаём виджет, который поместим в графическое приложение\n",
    "class Example(QWidget):\n",
    "\n",
    "    # вызовите конструктор класса\n",
    "    def ________(self):\n",
    "        super().__init__()\n",
    "        self.initUI()\n",
    "\n",
    "    def initUI(self):\n",
    "        self.setGeometry(300, 300, 300, 220)\n",
    "        # погуглите методы, устанавливающие название виджета и иконку виджета в Qt\n",
    "        self.setWindow________('My first Qt window!')\n",
    "        self.setWindow________(QIcon('imgs/icon.png'))\n",
    "        self.show()"
   ]
  },
  {
   "cell_type": "code",
   "execution_count": 3,
   "id": "0463d8d1",
   "metadata": {},
   "outputs": [],
   "source": [
    "def application():\n",
    "    app = QApplication(sys.argv)\n",
    "    ex = Example()\n",
    "    \n",
    "    # запускаем event-loop\n",
    "    app.exec()\n",
    "\n",
    "    # можно сделать это и так\n",
    "    # sys.exit(app.exec_())"
   ]
  },
  {
   "cell_type": "code",
   "execution_count": 4,
   "id": "1868663f",
   "metadata": {},
   "outputs": [],
   "source": [
    "if __name__ == \"__main__\":\n",
    "    application()"
   ]
  },
  {
   "cell_type": "markdown",
   "id": "1ee68f64",
   "metadata": {},
   "source": [
    "# Окно QWidget + кнопка и подпись\n",
    "Замените пропуски ________ ниже, чтобы создать окно с нажимаемой кнопкой и всплывающей подсказкой"
   ]
  },
  {
   "cell_type": "code",
   "execution_count": 5,
   "id": "e477ab7e",
   "metadata": {},
   "outputs": [],
   "source": [
    "class Example_2(QWidget):\n",
    "\n",
    "    def __init__(self):\n",
    "        super().__init__()\n",
    "        self.initUI()\n",
    "\n",
    "\n",
    "    def initUI(self):\n",
    "\n",
    "        QToolTip.setFont(QFont('SansSerif', 10))\n",
    "\n",
    "        self.setToolTip('This is a <b>QWidget</b> widget')\n",
    "\n",
    "        # создайте нажимаемую кнопку (можно подглядеть название импортируемых модулей)\n",
    "        btn = ________('Button', self)\n",
    "        btn.setToolTip('This is a <b>QPushButton</b> widget')\n",
    "        btn.resize(btn.sizeHint())\n",
    "        \n",
    "        # посмотрите ниже на задаваемые размеры окна и сместите кнопку примерно на середину виджета\n",
    "        btn.move(________, ________)\n",
    "\n",
    "        self.setGeometry(300, 300, 300, 200)\n",
    "        self.setWindowTitle('Tooltips')\n",
    "        self.show()"
   ]
  },
  {
   "cell_type": "markdown",
   "id": "acb7aa36",
   "metadata": {},
   "source": [
    "что вообще значит, что кнопка \"нажимаемая\"?"
   ]
  },
  {
   "cell_type": "code",
   "execution_count": 6,
   "id": "99d9c9ef",
   "metadata": {},
   "outputs": [],
   "source": [
    "def application_2():\n",
    "    app = QApplication(sys.argv)\n",
    "    ex = Example_2()\n",
    "    app.exec()"
   ]
  },
  {
   "cell_type": "code",
   "execution_count": 7,
   "id": "e949037a",
   "metadata": {},
   "outputs": [],
   "source": [
    "if __name__ == \"__main__\":\n",
    "    application_2()"
   ]
  }
 ],
 "metadata": {
  "kernelspec": {
   "display_name": "Python 3 (ipykernel)",
   "language": "python",
   "name": "python3"
  },
  "language_info": {
   "codemirror_mode": {
    "name": "ipython",
    "version": 3
   },
   "file_extension": ".py",
   "mimetype": "text/x-python",
   "name": "python",
   "nbconvert_exporter": "python",
   "pygments_lexer": "ipython3",
   "version": "3.9.7"
  }
 },
 "nbformat": 4,
 "nbformat_minor": 5
}
