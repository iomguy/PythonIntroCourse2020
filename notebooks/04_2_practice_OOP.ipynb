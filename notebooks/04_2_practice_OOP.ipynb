{
 "cells": [
  {
   "cell_type": "markdown",
   "metadata": {},
   "source": [
    "# Практика\n",
    "## Ещё раз про классы и объекты (экземпляры классов)\n",
    "\n",
    "Создайте класс **Thing**, не имеющий содержимого. Выведите его на экран.\n",
    "\n",
    "Создайте объект **example** (т.е. экземпляр класса **Thing**). Выведите его на экран\n",
    "Совпадают ли выведенные значения?"
   ]
  },
  {
   "cell_type": "code",
   "execution_count": 3,
   "metadata": {},
   "outputs": [
    {
     "name": "stdout",
     "output_type": "stream",
     "text": [
      "<class '__main__.Thing'>\n",
      "<__main__.Thing object at 0x00000204A656A670>\n"
     ]
    }
   ],
   "source": [
    "class Thing():\n",
    "    pass\n",
    "\n",
    "example = Thing()\n",
    "print(Thing)\n",
    "print(example)"
   ]
  },
  {
   "cell_type": "markdown",
   "metadata": {},
   "source": [
    "Создайте класс **Shape**, его наследник **Rectangle** и его наследник **Square**.\n",
    "В **Shape** определите метод объекта **area**, возвращающий 0.\n",
    "\n",
    "Класс **Rectangle** принимает в качестве аргументов длину и ширину стороны прямоугольника и присваивает её своим атрибутам, соответственно, **length** и **width** в конструкторе.\n",
    "\n",
    "Класс **Square** принимает в качестве аргументов длину стороны квадрата и присваивает её своему атрибуту **length** в конструкторе.\n",
    "\n",
    "Все классы имеют метод **area**, возвращающий 0 в классе **Shape**, площадь прямоугольника в классе **Rectangle** и площадь квадрата в классе **Square**."
   ]
  },
  {
   "cell_type": "code",
   "execution_count": 37,
   "metadata": {},
   "outputs": [
    {
     "name": "stdout",
     "output_type": "stream",
     "text": [
      "9\n",
      "20\n"
     ]
    }
   ],
   "source": [
    "class Shape():\n",
    "    def __init__(self):\n",
    "        pass\n",
    "\n",
    "    def area(self):\n",
    "        return 0\n",
    "\n",
    "    \n",
    "class Rectangle(Shape):\n",
    "    def __init__(self, l, w):\n",
    "        self.length = l\n",
    "        self.width  = w\n",
    "\n",
    "    def area(self):\n",
    "        return self.length*self.width\n",
    "    \n",
    "    \n",
    "class Square(Rectangle):\n",
    "    def __init__(self, l):\n",
    "        Shape.__init__(self)\n",
    "        self.length = l\n",
    "\n",
    "    def area(self):\n",
    "        return self.length*self.length\n",
    "\n",
    "aSquare= Square(3)\n",
    "print(aSquare.area())\n",
    "\n",
    "aRectangle = Rectangle(2,10)\n",
    "print(aRectangle.area())"
   ]
  }
 ],
 "metadata": {
  "kernelspec": {
   "display_name": "Python 3 (ipykernel)",
   "language": "python",
   "name": "python3"
  },
  "language_info": {
   "codemirror_mode": {
    "name": "ipython",
    "version": 3
   },
   "file_extension": ".py",
   "mimetype": "text/x-python",
   "name": "python",
   "nbconvert_exporter": "python",
   "pygments_lexer": "ipython3",
   "version": "3.10.2"
  }
 },
 "nbformat": 4,
 "nbformat_minor": 2
}
