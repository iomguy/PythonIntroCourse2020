{
 "cells": [
  {
   "cell_type": "code",
   "execution_count": 1,
   "id": "d5391250",
   "metadata": {},
   "outputs": [],
   "source": [
    "import sys\n",
    "from PyQt5.QtCore import pyqtSignal, QObject\n",
    "from PyQt5.QtWidgets import QMainWindow, QApplication"
   ]
  },
  {
   "cell_type": "markdown",
   "id": "0079cd3c",
   "metadata": {},
   "source": [
    "# Создание собственных сигналов\n",
    "Замените пропуски ________ ниже, чтобы создать собственный сигнал и связать его со слотом **close**, который будет закрывать ваш виджет"
   ]
  },
  {
   "cell_type": "markdown",
   "id": "89f20a97",
   "metadata": {},
   "source": [
    "Поищите [тут](https://www.riverbankcomputing.com/static/Docs/PyQt5/signals_slots.html), какой метод позволяет создать свой сигнал, присвойте его полю **closeApp** класса **Communicate**"
   ]
  },
  {
   "cell_type": "code",
   "execution_count": 2,
   "id": "0c879aae",
   "metadata": {},
   "outputs": [],
   "source": [
    "class Communicate(QObject):\n",
    "    closeApp = pyqtSignal()"
   ]
  },
  {
   "cell_type": "code",
   "execution_count": 3,
   "id": "6d6e69de",
   "metadata": {},
   "outputs": [],
   "source": [
    "class Example(QMainWindow):\n",
    "    def __init__(self):\n",
    "        super().__init__()\n",
    "        self.initUI()\n",
    "\n",
    "\n",
    "    def initUI(self):\n",
    "        # создадим сингал\n",
    "        self.c = Communicate()\n",
    "        # прочтите, какой метод связывает сигналы со слотами и свяжите ваш сигнал c.closeApp со слотом close\n",
    "        self.c.closeApp.connect(self.close)\n",
    "\n",
    "        self.setGeometry(300, 300, 290, 150)\n",
    "        self.setWindowTitle('Emit signal')\n",
    "        self.show()\n",
    "        \n",
    "    # это событие вызовется, если пользователь нажмёт ЛКМ, находясь в окне\n",
    "    def mousePressEvent(self, event):\n",
    "        # прочитите, какой метод \"вызывает\" сигнал\n",
    "        self.c.closeApp.emit()"
   ]
  },
  {
   "cell_type": "code",
   "execution_count": 4,
   "id": "61d77913",
   "metadata": {},
   "outputs": [],
   "source": [
    "def application():\n",
    "    app = QApplication(sys.argv)\n",
    "    ex = Example()\n",
    "    app.exec()"
   ]
  },
  {
   "cell_type": "code",
   "execution_count": 5,
   "id": "e0fbe453",
   "metadata": {},
   "outputs": [],
   "source": [
    "if __name__ == \"__main__\":\n",
    "    application()"
   ]
  }
 ],
 "metadata": {
  "kernelspec": {
   "display_name": "Python 3 (ipykernel)",
   "language": "python",
   "name": "python3"
  },
  "language_info": {
   "codemirror_mode": {
    "name": "ipython",
    "version": 3
   },
   "file_extension": ".py",
   "mimetype": "text/x-python",
   "name": "python",
   "nbconvert_exporter": "python",
   "pygments_lexer": "ipython3",
   "version": "3.9.7"
  }
 },
 "nbformat": 4,
 "nbformat_minor": 5
}
